{
 "cells": [
  {
   "attachments": {},
   "cell_type": "markdown",
   "metadata": {},
   "source": [
    "## **Preprocesamiento**"
   ]
  },
  {
   "attachments": {},
   "cell_type": "markdown",
   "metadata": {},
   "source": [
    "Instalar y cargar librerías"
   ]
  },
  {
   "cell_type": "code",
   "execution_count": 1,
   "metadata": {},
   "outputs": [
    {
     "name": "stdout",
     "output_type": "stream",
     "text": [
      "Requirement already satisfied: plotly in c:\\python311\\lib\\site-packages (5.13.1)\n",
      "Requirement already satisfied: tenacity>=6.2.0 in c:\\python311\\lib\\site-packages (from plotly) (8.2.2)\n"
     ]
    },
    {
     "name": "stderr",
     "output_type": "stream",
     "text": [
      "\n",
      "[notice] A new release of pip available: 22.3 -> 23.0.1\n",
      "[notice] To update, run: python.exe -m pip install --upgrade pip\n"
     ]
    },
    {
     "name": "stdout",
     "output_type": "stream",
     "text": [
      "Requirement already satisfied: scikit-learn in c:\\python311\\lib\\site-packages (1.2.1)\n",
      "Requirement already satisfied: numpy>=1.17.3 in c:\\python311\\lib\\site-packages (from scikit-learn) (1.23.5)\n",
      "Requirement already satisfied: scipy>=1.3.2 in c:\\python311\\lib\\site-packages (from scikit-learn) (1.10.1)\n",
      "Requirement already satisfied: joblib>=1.1.1 in c:\\python311\\lib\\site-packages (from scikit-learn) (1.2.0)\n",
      "Requirement already satisfied: threadpoolctl>=2.0.0 in c:\\python311\\lib\\site-packages (from scikit-learn) (3.1.0)\n"
     ]
    },
    {
     "name": "stderr",
     "output_type": "stream",
     "text": [
      "\n",
      "[notice] A new release of pip available: 22.3 -> 23.0.1\n",
      "[notice] To update, run: python.exe -m pip install --upgrade pip\n"
     ]
    }
   ],
   "source": [
    "! pip install plotly\n",
    "! pip install scikit-learn"
   ]
  },
  {
   "cell_type": "code",
   "execution_count": 2,
   "metadata": {},
   "outputs": [],
   "source": [
    "import pandas as pd\n",
    "import numpy as np\n",
    "import plotly.express as px\n",
    "from sklearn.impute import SimpleImputer "
   ]
  },
  {
   "attachments": {},
   "cell_type": "markdown",
   "metadata": {},
   "source": [
    "Funciones"
   ]
  },
  {
   "cell_type": "code",
   "execution_count": 3,
   "metadata": {},
   "outputs": [],
   "source": [
    "#Función para analizar datos no nulos, tipo de variable, cantidad de registros y columnas\n",
    "def analisis(x):\n",
    "    print('Información:')\n",
    "    \n",
    "    y=x.info()\n",
    "    z=x.shape\n",
    "\n",
    "    print('Cantidad de registros y variables', z)"
   ]
  },
  {
   "cell_type": "code",
   "execution_count": 4,
   "metadata": {},
   "outputs": [],
   "source": [
    "#Función para calcular cantidad y porcentaje de nulos por variable\n",
    "def nulos(x):\n",
    "    cant_nulos=x.isnull().sum() \n",
    "    porc_nulos=round(x.isnull().sum().sum()/x.size, 4)*100\n",
    "    print('Cantidad de nulos por variable:') \n",
    "    print(cant_nulos)\n",
    "    print('Porcentaje total de nulos: ', porc_nulos)"
   ]
  },
  {
   "cell_type": "code",
   "execution_count": 5,
   "metadata": {},
   "outputs": [],
   "source": [
    "#Función para verificar los valores únicos de cada variable\n",
    "def valores(x):\n",
    "    for variable in list(x.columns[1:]):\n",
    "        y = x[variable].unique()\n",
    "        print(variable)\n",
    "        print(y)"
   ]
  },
  {
   "cell_type": "code",
   "execution_count": 6,
   "metadata": {},
   "outputs": [],
   "source": [
    "#Función para pasar nombres de variables en minúscula\n",
    "def minust(x):\n",
    "    x.columns = map(str.lower,x.columns)"
   ]
  },
  {
   "cell_type": "code",
   "execution_count": 7,
   "metadata": {},
   "outputs": [],
   "source": [
    "#Función para convertir registros de una variable en minúscula\n",
    "def minus(x):\n",
    "    x=x.str.lower()\n",
    "    return x"
   ]
  },
  {
   "attachments": {},
   "cell_type": "markdown",
   "metadata": {},
   "source": [
    "Lectura de datos"
   ]
  },
  {
   "cell_type": "code",
   "execution_count": 8,
   "metadata": {},
   "outputs": [],
   "source": [
    "df_employee= pd.read_csv('./data/employee_survey_data.csv')\n",
    "df_general=pd.read_csv('./data/general_data.csv', sep=\";\")\n",
    "df_manager=pd.read_csv('./data/manager_survey_data.csv')\n",
    "df_retirement=pd.read_csv('./data/retirement_info.csv', sep=\";\")"
   ]
  },
  {
   "attachments": {},
   "cell_type": "markdown",
   "metadata": {},
   "source": [
    "##### Exploración y limpieza de datos"
   ]
  },
  {
   "attachments": {},
   "cell_type": "markdown",
   "metadata": {},
   "source": [
    "##### BD employee_survey"
   ]
  },
  {
   "cell_type": "code",
   "execution_count": 9,
   "metadata": {},
   "outputs": [
    {
     "data": {
      "text/html": [
       "<div>\n",
       "<style scoped>\n",
       "    .dataframe tbody tr th:only-of-type {\n",
       "        vertical-align: middle;\n",
       "    }\n",
       "\n",
       "    .dataframe tbody tr th {\n",
       "        vertical-align: top;\n",
       "    }\n",
       "\n",
       "    .dataframe thead th {\n",
       "        text-align: right;\n",
       "    }\n",
       "</style>\n",
       "<table border=\"1\" class=\"dataframe\">\n",
       "  <thead>\n",
       "    <tr style=\"text-align: right;\">\n",
       "      <th></th>\n",
       "      <th>EmployeeID</th>\n",
       "      <th>EnvironmentSatisfaction</th>\n",
       "      <th>JobSatisfaction</th>\n",
       "      <th>WorkLifeBalance</th>\n",
       "    </tr>\n",
       "  </thead>\n",
       "  <tbody>\n",
       "    <tr>\n",
       "      <th>0</th>\n",
       "      <td>1</td>\n",
       "      <td>3.0</td>\n",
       "      <td>4.0</td>\n",
       "      <td>2.0</td>\n",
       "    </tr>\n",
       "    <tr>\n",
       "      <th>1</th>\n",
       "      <td>2</td>\n",
       "      <td>3.0</td>\n",
       "      <td>2.0</td>\n",
       "      <td>4.0</td>\n",
       "    </tr>\n",
       "    <tr>\n",
       "      <th>2</th>\n",
       "      <td>3</td>\n",
       "      <td>2.0</td>\n",
       "      <td>2.0</td>\n",
       "      <td>1.0</td>\n",
       "    </tr>\n",
       "    <tr>\n",
       "      <th>3</th>\n",
       "      <td>4</td>\n",
       "      <td>4.0</td>\n",
       "      <td>4.0</td>\n",
       "      <td>3.0</td>\n",
       "    </tr>\n",
       "    <tr>\n",
       "      <th>4</th>\n",
       "      <td>5</td>\n",
       "      <td>4.0</td>\n",
       "      <td>1.0</td>\n",
       "      <td>3.0</td>\n",
       "    </tr>\n",
       "  </tbody>\n",
       "</table>\n",
       "</div>"
      ],
      "text/plain": [
       "   EmployeeID  EnvironmentSatisfaction  JobSatisfaction  WorkLifeBalance\n",
       "0           1                      3.0              4.0              2.0\n",
       "1           2                      3.0              2.0              4.0\n",
       "2           3                      2.0              2.0              1.0\n",
       "3           4                      4.0              4.0              3.0\n",
       "4           5                      4.0              1.0              3.0"
      ]
     },
     "execution_count": 9,
     "metadata": {},
     "output_type": "execute_result"
    }
   ],
   "source": [
    "df_employee.head()"
   ]
  },
  {
   "cell_type": "code",
   "execution_count": 10,
   "metadata": {},
   "outputs": [
    {
     "name": "stdout",
     "output_type": "stream",
     "text": [
      "Información:\n",
      "<class 'pandas.core.frame.DataFrame'>\n",
      "RangeIndex: 4410 entries, 0 to 4409\n",
      "Data columns (total 4 columns):\n",
      " #   Column                   Non-Null Count  Dtype  \n",
      "---  ------                   --------------  -----  \n",
      " 0   EmployeeID               4410 non-null   int64  \n",
      " 1   EnvironmentSatisfaction  4385 non-null   float64\n",
      " 2   JobSatisfaction          4390 non-null   float64\n",
      " 3   WorkLifeBalance          4372 non-null   float64\n",
      "dtypes: float64(3), int64(1)\n",
      "memory usage: 137.9 KB\n",
      "Cantidad de registros y variables (4410, 4)\n"
     ]
    }
   ],
   "source": [
    "#Aplicar función de Analisis\n",
    "analisis(df_employee)\n",
    "#la BD employee_survey contiene 4 variables, las cuales son el ID del empleado, nivel de satisfación del ambiente laboral, \n",
    "#nivel de satisfación laboral, Balance de la vida laboral y personal. \n",
    "# En total se tienen 4410 registros de empleados."
   ]
  },
  {
   "cell_type": "code",
   "execution_count": 11,
   "metadata": {},
   "outputs": [],
   "source": [
    "# Convertir variables tipo númericas a categóricas\n",
    "df_employee=df_employee.astype({'EnvironmentSatisfaction': object, 'JobSatisfaction': object, 'WorkLifeBalance':object})"
   ]
  },
  {
   "cell_type": "code",
   "execution_count": 12,
   "metadata": {},
   "outputs": [
    {
     "name": "stdout",
     "output_type": "stream",
     "text": [
      "Cantidad de nulos por variable:\n",
      "EmployeeID                  0\n",
      "EnvironmentSatisfaction    25\n",
      "JobSatisfaction            20\n",
      "WorkLifeBalance            38\n",
      "dtype: int64\n",
      "Porcentaje total de nulos:  0.47000000000000003\n"
     ]
    }
   ],
   "source": [
    "#Aplicar función de nulos\n",
    "nulos(df_employee)"
   ]
  },
  {
   "cell_type": "code",
   "execution_count": 13,
   "metadata": {},
   "outputs": [],
   "source": [
    "#Dado que se tiene un % de datos nulos muy pequeño para cada varible, se opta por aplicar la estrategia de tratamiento de nulos ffill\n",
    "# ffill(): copiar el valor previo en la celda donde encuentre un valor nulo\n",
    "df_employee = df_employee.ffill()"
   ]
  },
  {
   "cell_type": "code",
   "execution_count": 14,
   "metadata": {},
   "outputs": [
    {
     "name": "stdout",
     "output_type": "stream",
     "text": [
      "EnvironmentSatisfaction\n",
      "[3. 2. 4. 1.]\n",
      "JobSatisfaction\n",
      "[4. 2. 1. 3.]\n",
      "WorkLifeBalance\n",
      "[2. 4. 1. 3.]\n"
     ]
    }
   ],
   "source": [
    "#Aplicar función para ver valores únicos por variable\n",
    "valores(df_employee)"
   ]
  },
  {
   "cell_type": "code",
   "execution_count": 15,
   "metadata": {},
   "outputs": [],
   "source": [
    "#Aplicar función para convertir títulos en minuscula\n",
    "minust(df_employee)"
   ]
  },
  {
   "attachments": {},
   "cell_type": "markdown",
   "metadata": {},
   "source": [
    "##### BD general_data"
   ]
  },
  {
   "cell_type": "code",
   "execution_count": 16,
   "metadata": {},
   "outputs": [
    {
     "data": {
      "text/html": [
       "<div>\n",
       "<style scoped>\n",
       "    .dataframe tbody tr th:only-of-type {\n",
       "        vertical-align: middle;\n",
       "    }\n",
       "\n",
       "    .dataframe tbody tr th {\n",
       "        vertical-align: top;\n",
       "    }\n",
       "\n",
       "    .dataframe thead th {\n",
       "        text-align: right;\n",
       "    }\n",
       "</style>\n",
       "<table border=\"1\" class=\"dataframe\">\n",
       "  <thead>\n",
       "    <tr style=\"text-align: right;\">\n",
       "      <th></th>\n",
       "      <th>Age</th>\n",
       "      <th>BusinessTravel</th>\n",
       "      <th>Department</th>\n",
       "      <th>DistanceFromHome</th>\n",
       "      <th>Education</th>\n",
       "      <th>EducationField</th>\n",
       "      <th>EmployeeCount</th>\n",
       "      <th>EmployeeID</th>\n",
       "      <th>Gender</th>\n",
       "      <th>JobLevel</th>\n",
       "      <th>...</th>\n",
       "      <th>NumCompaniesWorked</th>\n",
       "      <th>Over18</th>\n",
       "      <th>PercentSalaryHike</th>\n",
       "      <th>StandardHours</th>\n",
       "      <th>StockOptionLevel</th>\n",
       "      <th>TotalWorkingYears</th>\n",
       "      <th>TrainingTimesLastYear</th>\n",
       "      <th>YearsAtCompany</th>\n",
       "      <th>YearsSinceLastPromotion</th>\n",
       "      <th>YearsWithCurrManager</th>\n",
       "    </tr>\n",
       "  </thead>\n",
       "  <tbody>\n",
       "    <tr>\n",
       "      <th>0</th>\n",
       "      <td>51</td>\n",
       "      <td>Travel_Rarely</td>\n",
       "      <td>Sales</td>\n",
       "      <td>6</td>\n",
       "      <td>2</td>\n",
       "      <td>Life Sciences</td>\n",
       "      <td>1</td>\n",
       "      <td>1</td>\n",
       "      <td>Female</td>\n",
       "      <td>1</td>\n",
       "      <td>...</td>\n",
       "      <td>1.0</td>\n",
       "      <td>Y</td>\n",
       "      <td>11</td>\n",
       "      <td>8</td>\n",
       "      <td>0</td>\n",
       "      <td>1.0</td>\n",
       "      <td>6</td>\n",
       "      <td>1</td>\n",
       "      <td>0</td>\n",
       "      <td>0</td>\n",
       "    </tr>\n",
       "    <tr>\n",
       "      <th>1</th>\n",
       "      <td>31</td>\n",
       "      <td>Travel_Frequently</td>\n",
       "      <td>Research &amp; Development</td>\n",
       "      <td>10</td>\n",
       "      <td>1</td>\n",
       "      <td>Life Sciences</td>\n",
       "      <td>1</td>\n",
       "      <td>2</td>\n",
       "      <td>Female</td>\n",
       "      <td>1</td>\n",
       "      <td>...</td>\n",
       "      <td>0.0</td>\n",
       "      <td>Y</td>\n",
       "      <td>23</td>\n",
       "      <td>8</td>\n",
       "      <td>1</td>\n",
       "      <td>6.0</td>\n",
       "      <td>3</td>\n",
       "      <td>5</td>\n",
       "      <td>1</td>\n",
       "      <td>4</td>\n",
       "    </tr>\n",
       "    <tr>\n",
       "      <th>2</th>\n",
       "      <td>32</td>\n",
       "      <td>Travel_Frequently</td>\n",
       "      <td>Research &amp; Development</td>\n",
       "      <td>17</td>\n",
       "      <td>4</td>\n",
       "      <td>Other</td>\n",
       "      <td>1</td>\n",
       "      <td>3</td>\n",
       "      <td>Male</td>\n",
       "      <td>4</td>\n",
       "      <td>...</td>\n",
       "      <td>1.0</td>\n",
       "      <td>Y</td>\n",
       "      <td>15</td>\n",
       "      <td>8</td>\n",
       "      <td>3</td>\n",
       "      <td>5.0</td>\n",
       "      <td>2</td>\n",
       "      <td>5</td>\n",
       "      <td>0</td>\n",
       "      <td>3</td>\n",
       "    </tr>\n",
       "    <tr>\n",
       "      <th>3</th>\n",
       "      <td>38</td>\n",
       "      <td>Non-Travel</td>\n",
       "      <td>Research &amp; Development</td>\n",
       "      <td>2</td>\n",
       "      <td>5</td>\n",
       "      <td>Life Sciences</td>\n",
       "      <td>1</td>\n",
       "      <td>4</td>\n",
       "      <td>Male</td>\n",
       "      <td>3</td>\n",
       "      <td>...</td>\n",
       "      <td>3.0</td>\n",
       "      <td>Y</td>\n",
       "      <td>11</td>\n",
       "      <td>8</td>\n",
       "      <td>3</td>\n",
       "      <td>13.0</td>\n",
       "      <td>5</td>\n",
       "      <td>8</td>\n",
       "      <td>7</td>\n",
       "      <td>5</td>\n",
       "    </tr>\n",
       "    <tr>\n",
       "      <th>4</th>\n",
       "      <td>32</td>\n",
       "      <td>Travel_Rarely</td>\n",
       "      <td>Research &amp; Development</td>\n",
       "      <td>10</td>\n",
       "      <td>1</td>\n",
       "      <td>Medical</td>\n",
       "      <td>1</td>\n",
       "      <td>5</td>\n",
       "      <td>Male</td>\n",
       "      <td>1</td>\n",
       "      <td>...</td>\n",
       "      <td>4.0</td>\n",
       "      <td>Y</td>\n",
       "      <td>12</td>\n",
       "      <td>8</td>\n",
       "      <td>2</td>\n",
       "      <td>9.0</td>\n",
       "      <td>2</td>\n",
       "      <td>6</td>\n",
       "      <td>0</td>\n",
       "      <td>4</td>\n",
       "    </tr>\n",
       "  </tbody>\n",
       "</table>\n",
       "<p>5 rows × 23 columns</p>\n",
       "</div>"
      ],
      "text/plain": [
       "   Age     BusinessTravel              Department  DistanceFromHome  \\\n",
       "0   51      Travel_Rarely                   Sales                 6   \n",
       "1   31  Travel_Frequently  Research & Development                10   \n",
       "2   32  Travel_Frequently  Research & Development                17   \n",
       "3   38         Non-Travel  Research & Development                 2   \n",
       "4   32      Travel_Rarely  Research & Development                10   \n",
       "\n",
       "   Education EducationField  EmployeeCount  EmployeeID  Gender  JobLevel  ...  \\\n",
       "0          2  Life Sciences              1           1  Female         1  ...   \n",
       "1          1  Life Sciences              1           2  Female         1  ...   \n",
       "2          4          Other              1           3    Male         4  ...   \n",
       "3          5  Life Sciences              1           4    Male         3  ...   \n",
       "4          1        Medical              1           5    Male         1  ...   \n",
       "\n",
       "  NumCompaniesWorked Over18  PercentSalaryHike  StandardHours  \\\n",
       "0                1.0      Y                 11              8   \n",
       "1                0.0      Y                 23              8   \n",
       "2                1.0      Y                 15              8   \n",
       "3                3.0      Y                 11              8   \n",
       "4                4.0      Y                 12              8   \n",
       "\n",
       "  StockOptionLevel  TotalWorkingYears  TrainingTimesLastYear  YearsAtCompany  \\\n",
       "0                0                1.0                      6               1   \n",
       "1                1                6.0                      3               5   \n",
       "2                3                5.0                      2               5   \n",
       "3                3               13.0                      5               8   \n",
       "4                2                9.0                      2               6   \n",
       "\n",
       "   YearsSinceLastPromotion  YearsWithCurrManager  \n",
       "0                        0                     0  \n",
       "1                        1                     4  \n",
       "2                        0                     3  \n",
       "3                        7                     5  \n",
       "4                        0                     4  \n",
       "\n",
       "[5 rows x 23 columns]"
      ]
     },
     "execution_count": 16,
     "metadata": {},
     "output_type": "execute_result"
    }
   ],
   "source": [
    "df_general.head()"
   ]
  },
  {
   "cell_type": "code",
   "execution_count": 17,
   "metadata": {},
   "outputs": [
    {
     "name": "stdout",
     "output_type": "stream",
     "text": [
      "Información:\n",
      "<class 'pandas.core.frame.DataFrame'>\n",
      "RangeIndex: 4410 entries, 0 to 4409\n",
      "Data columns (total 23 columns):\n",
      " #   Column                   Non-Null Count  Dtype  \n",
      "---  ------                   --------------  -----  \n",
      " 0   Age                      4410 non-null   int64  \n",
      " 1   BusinessTravel           4410 non-null   object \n",
      " 2   Department               4410 non-null   object \n",
      " 3   DistanceFromHome         4410 non-null   int64  \n",
      " 4   Education                4410 non-null   int64  \n",
      " 5   EducationField           4410 non-null   object \n",
      " 6   EmployeeCount            4410 non-null   int64  \n",
      " 7   EmployeeID               4410 non-null   int64  \n",
      " 8   Gender                   4410 non-null   object \n",
      " 9   JobLevel                 4410 non-null   int64  \n",
      " 10  JobRole                  4410 non-null   object \n",
      " 11  MaritalStatus            4410 non-null   object \n",
      " 12  MonthlyIncome            4410 non-null   int64  \n",
      " 13  NumCompaniesWorked       4391 non-null   float64\n",
      " 14  Over18                   4410 non-null   object \n",
      " 15  PercentSalaryHike        4410 non-null   int64  \n",
      " 16  StandardHours            4410 non-null   int64  \n",
      " 17  StockOptionLevel         4410 non-null   int64  \n",
      " 18  TotalWorkingYears        4401 non-null   float64\n",
      " 19  TrainingTimesLastYear    4410 non-null   int64  \n",
      " 20  YearsAtCompany           4410 non-null   int64  \n",
      " 21  YearsSinceLastPromotion  4410 non-null   int64  \n",
      " 22  YearsWithCurrManager     4410 non-null   int64  \n",
      "dtypes: float64(2), int64(14), object(7)\n",
      "memory usage: 792.5+ KB\n",
      "Cantidad de registros y variables (4410, 23)\n"
     ]
    }
   ],
   "source": [
    "#Aplicar función de analisis\n",
    "analisis(df_general)\n",
    "#la BD employee_survey contiene 23 variables\n",
    "# En total se tienen 4410 registros de empleados."
   ]
  },
  {
   "cell_type": "code",
   "execution_count": 18,
   "metadata": {},
   "outputs": [
    {
     "name": "stdout",
     "output_type": "stream",
     "text": [
      "BusinessTravel\n",
      "['Travel_Rarely' 'Travel_Frequently' 'Non-Travel']\n",
      "Department\n",
      "['Sales' 'Research & Development' 'Human Resources']\n",
      "DistanceFromHome\n",
      "[ 6 10 17  2  8 11 18  1  7 28 14  3  4 16  9  5 20 29 15 13 24 19 22 25\n",
      " 21 26 27 12 23]\n",
      "Education\n",
      "[2 1 4 5 3]\n",
      "EducationField\n",
      "['Life Sciences' 'Other' 'Medical' 'Marketing' 'Technical Degree'\n",
      " 'Human Resources']\n",
      "EmployeeCount\n",
      "[1]\n",
      "EmployeeID\n",
      "[   1    2    3 ... 4408 4409 4410]\n",
      "Gender\n",
      "['Female' 'Male']\n",
      "JobLevel\n",
      "[1 4 3 2 5]\n",
      "JobRole\n",
      "['Healthcare Representative' 'Research Scientist' 'Sales Executive'\n",
      " 'Human Resources' 'Research Director' 'Laboratory Technician'\n",
      " 'Manufacturing Director' 'Sales Representative' 'Manager']\n",
      "MaritalStatus\n",
      "['Married' 'Single' 'Divorced']\n",
      "MonthlyIncome\n",
      "[131160  41890 193280 ...  37020  23980  54680]\n",
      "NumCompaniesWorked\n",
      "[ 1.  0.  3.  4.  2.  7.  9.  5.  6.  8. nan]\n",
      "Over18\n",
      "['Y']\n",
      "PercentSalaryHike\n",
      "[11 23 15 12 13 20 22 21 17 14 16 18 19 24 25]\n",
      "StandardHours\n",
      "[8]\n",
      "StockOptionLevel\n",
      "[0 1 3 2]\n",
      "TotalWorkingYears\n",
      "[ 1.  6.  5. 13.  9. 28. 10. 21. 16. 37.  7.  3. 15.  8. nan 12. 17. 19.\n",
      " 22.  2.  4. 23.  0. 11. 24. 25. 20. 14. 26. 18. 30. 36. 31. 33. 32. 34.\n",
      " 40. 29. 35. 27. 38.]\n",
      "TrainingTimesLastYear\n",
      "[6 3 2 5 4 0 1]\n",
      "YearsAtCompany\n",
      "[ 1  5  8  6  7  0  9 20 15 36 10  3 17  2  4 11 22 18 13 24 21 16 25 29\n",
      " 27 14 31 32 34 26 12 19 33 30 23 37 40]\n",
      "YearsSinceLastPromotion\n",
      "[ 0  1  7  4 10  9  6 11  3  5  2  8 13 12 15 14]\n",
      "YearsWithCurrManager\n",
      "[ 0  4  3  5  7  8 10 11 13  9  1  2  6 12 17 16 15 14]\n"
     ]
    }
   ],
   "source": [
    "#Aplicar función para ver valores únicos por variable\n",
    "valores(df_general)"
   ]
  },
  {
   "cell_type": "code",
   "execution_count": 19,
   "metadata": {},
   "outputs": [],
   "source": [
    "#Se detectó que las variables 'EmployeeCount','Over18','StandardHours' están compuestas por un valor único, por tanto, se procede a eliminarlas\n",
    "df_general=df_general.drop(['EmployeeCount','Over18','StandardHours'], axis=1)"
   ]
  },
  {
   "cell_type": "code",
   "execution_count": 20,
   "metadata": {},
   "outputs": [
    {
     "name": "stdout",
     "output_type": "stream",
     "text": [
      "Cantidad de nulos por variable:\n",
      "Age                         0\n",
      "BusinessTravel              0\n",
      "Department                  0\n",
      "DistanceFromHome            0\n",
      "Education                   0\n",
      "EducationField              0\n",
      "EmployeeID                  0\n",
      "Gender                      0\n",
      "JobLevel                    0\n",
      "JobRole                     0\n",
      "MaritalStatus               0\n",
      "MonthlyIncome               0\n",
      "NumCompaniesWorked         19\n",
      "PercentSalaryHike           0\n",
      "StockOptionLevel            0\n",
      "TotalWorkingYears           9\n",
      "TrainingTimesLastYear       0\n",
      "YearsAtCompany              0\n",
      "YearsSinceLastPromotion     0\n",
      "YearsWithCurrManager        0\n",
      "dtype: int64\n",
      "Porcentaje total de nulos:  0.03\n"
     ]
    }
   ],
   "source": [
    "#Aplicar función nulos para identificar la cantidad y porcentaje de estos por cada variable\n",
    "nulos(df_general)"
   ]
  },
  {
   "cell_type": "code",
   "execution_count": 21,
   "metadata": {},
   "outputs": [],
   "source": [
    "# Para las variables de 'TotalWorkingYears' y 'NumCompaniesWorked' se detectaron nulos pero en una porpoción pequeña (inferior del 10%)\n",
    "#Definir la forma de imputar nulos\n",
    "imputar = SimpleImputer(missing_values= np.nan, strategy='most_frequent')\n",
    "# imputar datos faltantes\n",
    "df_general.iloc[:,:] = imputar.fit_transform(df_general.iloc[:,:]) "
   ]
  },
  {
   "cell_type": "code",
   "execution_count": 22,
   "metadata": {},
   "outputs": [],
   "source": [
    "# Convertir variables tipo númericas a categóricas\n",
    "df_general=df_general.astype({'Education': object, 'JobLevel': object, 'StockOptionLevel':object})\n",
    "# Convertir variables tipo float a enteras\n",
    "df_general=df_general.astype({'NumCompaniesWorked': int})"
   ]
  },
  {
   "cell_type": "code",
   "execution_count": 23,
   "metadata": {},
   "outputs": [],
   "source": [
    "#Aplicar función para convertir en minúscula los registros de las variables tipo string \n",
    "df_general['BusinessTravel']=minus(df_general['BusinessTravel'])\n",
    "df_general['Department']=minus(df_general['Department'])\n",
    "df_general['EducationField']=minus(df_general['EducationField'])\n",
    "df_general['Gender']=minus(df_general['Gender'])\n",
    "df_general['JobRole']=minus(df_general['JobRole'])\n",
    "df_general['MaritalStatus']=minus(df_general['MaritalStatus'])\n",
    "#Aplicar función para convertir nombres de variables en minúscula\n",
    "minust(df_general)"
   ]
  },
  {
   "attachments": {},
   "cell_type": "markdown",
   "metadata": {},
   "source": [
    "##### BD Manager Survey"
   ]
  },
  {
   "cell_type": "code",
   "execution_count": 24,
   "metadata": {},
   "outputs": [
    {
     "data": {
      "text/html": [
       "<div>\n",
       "<style scoped>\n",
       "    .dataframe tbody tr th:only-of-type {\n",
       "        vertical-align: middle;\n",
       "    }\n",
       "\n",
       "    .dataframe tbody tr th {\n",
       "        vertical-align: top;\n",
       "    }\n",
       "\n",
       "    .dataframe thead th {\n",
       "        text-align: right;\n",
       "    }\n",
       "</style>\n",
       "<table border=\"1\" class=\"dataframe\">\n",
       "  <thead>\n",
       "    <tr style=\"text-align: right;\">\n",
       "      <th></th>\n",
       "      <th>EmployeeID</th>\n",
       "      <th>JobInvolvement</th>\n",
       "      <th>PerformanceRating</th>\n",
       "    </tr>\n",
       "  </thead>\n",
       "  <tbody>\n",
       "    <tr>\n",
       "      <th>0</th>\n",
       "      <td>1</td>\n",
       "      <td>3</td>\n",
       "      <td>3</td>\n",
       "    </tr>\n",
       "    <tr>\n",
       "      <th>1</th>\n",
       "      <td>2</td>\n",
       "      <td>2</td>\n",
       "      <td>4</td>\n",
       "    </tr>\n",
       "    <tr>\n",
       "      <th>2</th>\n",
       "      <td>3</td>\n",
       "      <td>3</td>\n",
       "      <td>3</td>\n",
       "    </tr>\n",
       "    <tr>\n",
       "      <th>3</th>\n",
       "      <td>4</td>\n",
       "      <td>2</td>\n",
       "      <td>3</td>\n",
       "    </tr>\n",
       "    <tr>\n",
       "      <th>4</th>\n",
       "      <td>5</td>\n",
       "      <td>3</td>\n",
       "      <td>3</td>\n",
       "    </tr>\n",
       "  </tbody>\n",
       "</table>\n",
       "</div>"
      ],
      "text/plain": [
       "   EmployeeID  JobInvolvement  PerformanceRating\n",
       "0           1               3                  3\n",
       "1           2               2                  4\n",
       "2           3               3                  3\n",
       "3           4               2                  3\n",
       "4           5               3                  3"
      ]
     },
     "execution_count": 24,
     "metadata": {},
     "output_type": "execute_result"
    }
   ],
   "source": [
    "df_manager.head()"
   ]
  },
  {
   "cell_type": "code",
   "execution_count": 25,
   "metadata": {},
   "outputs": [
    {
     "name": "stdout",
     "output_type": "stream",
     "text": [
      "Información:\n",
      "<class 'pandas.core.frame.DataFrame'>\n",
      "RangeIndex: 4410 entries, 0 to 4409\n",
      "Data columns (total 3 columns):\n",
      " #   Column             Non-Null Count  Dtype\n",
      "---  ------             --------------  -----\n",
      " 0   EmployeeID         4410 non-null   int64\n",
      " 1   JobInvolvement     4410 non-null   int64\n",
      " 2   PerformanceRating  4410 non-null   int64\n",
      "dtypes: int64(3)\n",
      "memory usage: 103.5 KB\n",
      "Cantidad de registros y variables (4410, 3)\n"
     ]
    }
   ],
   "source": [
    "#Aplicar función de analisis\n",
    "analisis(df_manager)\n",
    "#la BD employee_survey contiene 3 variables\n",
    "#En total se tienen 4410 registros de empleados."
   ]
  },
  {
   "cell_type": "code",
   "execution_count": 26,
   "metadata": {},
   "outputs": [
    {
     "name": "stdout",
     "output_type": "stream",
     "text": [
      "JobInvolvement\n",
      "[3 2 1 4]\n",
      "PerformanceRating\n",
      "[3 4]\n"
     ]
    }
   ],
   "source": [
    "#Aplicar función para ver valores únicos por variable\n",
    "valores(df_manager)"
   ]
  },
  {
   "cell_type": "code",
   "execution_count": 27,
   "metadata": {},
   "outputs": [],
   "source": [
    "# Convertir variables tipo númericas a categóricas\n",
    "df_manager=df_manager.astype({'JobInvolvement': object, 'PerformanceRating': object})"
   ]
  },
  {
   "cell_type": "code",
   "execution_count": 28,
   "metadata": {},
   "outputs": [
    {
     "name": "stdout",
     "output_type": "stream",
     "text": [
      "Cantidad de nulos por variable:\n",
      "EmployeeID           0\n",
      "JobInvolvement       0\n",
      "PerformanceRating    0\n",
      "dtype: int64\n",
      "Porcentaje total de nulos:  0.0\n"
     ]
    }
   ],
   "source": [
    "#Aplicar función para identificar la cantidad y porcentaje de nulos por cada variable\n",
    "nulos(df_manager)\n",
    "#No tenemos presencia de nulos"
   ]
  },
  {
   "cell_type": "code",
   "execution_count": 29,
   "metadata": {},
   "outputs": [],
   "source": [
    "#Aplicar función para convertir nombres de variables en minúscula\n",
    "minust(df_manager)"
   ]
  },
  {
   "attachments": {},
   "cell_type": "markdown",
   "metadata": {},
   "source": [
    "##### BD Retirement info"
   ]
  },
  {
   "cell_type": "code",
   "execution_count": 30,
   "metadata": {},
   "outputs": [
    {
     "data": {
      "text/html": [
       "<div>\n",
       "<style scoped>\n",
       "    .dataframe tbody tr th:only-of-type {\n",
       "        vertical-align: middle;\n",
       "    }\n",
       "\n",
       "    .dataframe tbody tr th {\n",
       "        vertical-align: top;\n",
       "    }\n",
       "\n",
       "    .dataframe thead th {\n",
       "        text-align: right;\n",
       "    }\n",
       "</style>\n",
       "<table border=\"1\" class=\"dataframe\">\n",
       "  <thead>\n",
       "    <tr style=\"text-align: right;\">\n",
       "      <th></th>\n",
       "      <th>EmployeeID</th>\n",
       "      <th>Attrition</th>\n",
       "      <th>retirementDate</th>\n",
       "      <th>retirementType</th>\n",
       "      <th>resignationReason</th>\n",
       "    </tr>\n",
       "  </thead>\n",
       "  <tbody>\n",
       "    <tr>\n",
       "      <th>0</th>\n",
       "      <td>2</td>\n",
       "      <td>Yes</td>\n",
       "      <td>15/10/2016</td>\n",
       "      <td>Resignation</td>\n",
       "      <td>Others</td>\n",
       "    </tr>\n",
       "    <tr>\n",
       "      <th>1</th>\n",
       "      <td>7</td>\n",
       "      <td>Yes</td>\n",
       "      <td>20/07/2016</td>\n",
       "      <td>Resignation</td>\n",
       "      <td>Stress</td>\n",
       "    </tr>\n",
       "    <tr>\n",
       "      <th>2</th>\n",
       "      <td>14</td>\n",
       "      <td>Yes</td>\n",
       "      <td>08/11/2016</td>\n",
       "      <td>Resignation</td>\n",
       "      <td>Others</td>\n",
       "    </tr>\n",
       "    <tr>\n",
       "      <th>3</th>\n",
       "      <td>29</td>\n",
       "      <td>Yes</td>\n",
       "      <td>15/10/2016</td>\n",
       "      <td>Resignation</td>\n",
       "      <td>Others</td>\n",
       "    </tr>\n",
       "    <tr>\n",
       "      <th>4</th>\n",
       "      <td>31</td>\n",
       "      <td>Yes</td>\n",
       "      <td>08/02/2016</td>\n",
       "      <td>Resignation</td>\n",
       "      <td>Salary</td>\n",
       "    </tr>\n",
       "  </tbody>\n",
       "</table>\n",
       "</div>"
      ],
      "text/plain": [
       "   EmployeeID Attrition retirementDate retirementType resignationReason\n",
       "0           2       Yes     15/10/2016    Resignation            Others\n",
       "1           7       Yes     20/07/2016    Resignation            Stress\n",
       "2          14       Yes     08/11/2016    Resignation            Others\n",
       "3          29       Yes     15/10/2016    Resignation            Others\n",
       "4          31       Yes     08/02/2016    Resignation            Salary"
      ]
     },
     "execution_count": 30,
     "metadata": {},
     "output_type": "execute_result"
    }
   ],
   "source": [
    "df_retirement.head()"
   ]
  },
  {
   "cell_type": "code",
   "execution_count": 31,
   "metadata": {},
   "outputs": [
    {
     "name": "stdout",
     "output_type": "stream",
     "text": [
      "Información:\n",
      "<class 'pandas.core.frame.DataFrame'>\n",
      "RangeIndex: 711 entries, 0 to 710\n",
      "Data columns (total 5 columns):\n",
      " #   Column             Non-Null Count  Dtype \n",
      "---  ------             --------------  ----- \n",
      " 0   EmployeeID         711 non-null    int64 \n",
      " 1   Attrition          711 non-null    object\n",
      " 2   retirementDate     711 non-null    object\n",
      " 3   retirementType     711 non-null    object\n",
      " 4   resignationReason  641 non-null    object\n",
      "dtypes: int64(1), object(4)\n",
      "memory usage: 27.9+ KB\n",
      "Cantidad de registros y variables (711, 5)\n"
     ]
    }
   ],
   "source": [
    "#Aplicar función de análisis\n",
    "analisis(df_retirement)\n",
    "#la BD employee_survey contiene 5 variables\n",
    "# En total se tienen 711 registros de empleados."
   ]
  },
  {
   "cell_type": "code",
   "execution_count": 32,
   "metadata": {},
   "outputs": [],
   "source": [
    "#Reemplazar nulos de columna de razón de retiro por 'no aplica', ya que estos empleados corresponden a los despedidos\n",
    "df_retirement['resignationReason'] = df_retirement['resignationReason'].replace(np.nan, 'no aplica')"
   ]
  },
  {
   "cell_type": "code",
   "execution_count": 33,
   "metadata": {},
   "outputs": [
    {
     "name": "stdout",
     "output_type": "stream",
     "text": [
      "Attrition\n",
      "['Yes']\n",
      "retirementDate\n",
      "['15/10/2016' '20/07/2016' '08/11/2016' '08/02/2016' '18/06/2016'\n",
      " '29/04/2016' '15/12/2016' '18/01/2016' '23/08/2016' '17/02/2016'\n",
      " '23/02/2016' '07/04/2016' '08/10/2016' '12/08/2016' '14/10/2016'\n",
      " '26/07/2016' '02/05/2016' '29/07/2016' '10/01/2016' '29/02/2016'\n",
      " '25/03/2016' '30/06/2016' '16/11/2016' '13/02/2016' '05/07/2016'\n",
      " '22/02/2016' '03/01/2016' '05/03/2016' '04/09/2016' '25/01/2016'\n",
      " '01/06/2016' '22/06/2016' '28/10/2016' '23/06/2016' '30/05/2016'\n",
      " '14/07/2016' '17/08/2016' '28/01/2016' '19/01/2016' '06/04/2016'\n",
      " '06/03/2016' '08/12/2016' '01/09/2016' '11/09/2016' '09/06/2016'\n",
      " '30/09/2016' '17/01/2016' '26/08/2016' '13/03/2016' '19/06/2016'\n",
      " '18/05/2016' '09/03/2016' '24/08/2016' '11/06/2016' '19/02/2016'\n",
      " '22/04/2016' '11/08/2016' '02/09/2016' '01/04/2016' '26/05/2016'\n",
      " '21/07/2016' '26/11/2016' '02/06/2016' '26/06/2016' '25/05/2016'\n",
      " '12/12/2016' '22/10/2016' '06/11/2016' '10/09/2016' '01/05/2016'\n",
      " '14/11/2016' '13/12/2016' '21/09/2016' '27/11/2016' '18/10/2016'\n",
      " '10/05/2016' '10/02/2016' '01/07/2016' '26/02/2016' '03/11/2016'\n",
      " '02/12/2016' '08/01/2016' '04/01/2016' '18/04/2016' '24/01/2016'\n",
      " '31/07/2016' '27/05/2016' '27/04/2016' '19/09/2016' '29/01/2016'\n",
      " '16/09/2016' '12/03/2016' '21/04/2016' '20/05/2016' '18/02/2016'\n",
      " '23/07/2016' '18/03/2016' '25/06/2016' '10/08/2016' '26/03/2016'\n",
      " '21/03/2016' '31/01/2016' '11/10/2016' '05/05/2016' '04/08/2016'\n",
      " '27/10/2016' '31/08/2016' '13/11/2016' '01/10/2016' '29/03/2016'\n",
      " '22/01/2016' '06/12/2016' '24/02/2016' '13/07/2016' '22/07/2016'\n",
      " '28/07/2016' '24/03/2016' '08/04/2016' '20/06/2016' '16/03/2016'\n",
      " '25/11/2016' '23/05/2016' '02/07/2016' '18/09/2016' '14/01/2016'\n",
      " '04/04/2016' '01/02/2016' '05/09/2016' '27/07/2016' '08/09/2016'\n",
      " '07/03/2016' '24/07/2016' '17/11/2016' '15/02/2016' '06/06/2016'\n",
      " '31/03/2016' '14/05/2016' '17/05/2016' '15/01/2016' '19/07/2016'\n",
      " '25/07/2016' '07/05/2016' '22/08/2016' '09/09/2016' '03/03/2016'\n",
      " '28/03/2016' '06/01/2016' '28/05/2016' '03/09/2016' '08/06/2016'\n",
      " '25/08/2016' '16/02/2016' '04/05/2016' '05/10/2016' '21/05/2016'\n",
      " '05/01/2016' '14/12/2016' '23/03/2016' '18/11/2016' '17/03/2016'\n",
      " '11/01/2016' '22/05/2016' '03/05/2016' '30/01/2016' '07/02/2016'\n",
      " '04/12/2016' '20/10/2016' '20/03/2016' '09/05/2016' '25/09/2016'\n",
      " '15/05/2016' '28/08/2016' '10/07/2016' '09/04/2016' '28/11/2016'\n",
      " '02/03/2016' '31/10/2016' '15/07/2016' '03/10/2016' '04/02/2016'\n",
      " '12/02/2016' '26/09/2016' '19/08/2016' '07/01/2016' '11/07/2016'\n",
      " '09/12/2016' '02/04/2016' '29/05/2016' '07/11/2016' '16/10/2016'\n",
      " '03/07/2016' '01/03/2016' '14/06/2016' '13/06/2016' '25/10/2016'\n",
      " '11/11/2016' '27/08/2016' '15/11/2016' '19/05/2016' '10/11/2016'\n",
      " '16/04/2016' '11/02/2016' '22/11/2016' '03/12/2016' '13/10/2016'\n",
      " '30/03/2016' '15/04/2016' '24/04/2016' '07/12/2016' '12/11/2016'\n",
      " '18/08/2016' '16/06/2016' '16/05/2016' '09/10/2016' '28/06/2016'\n",
      " '27/06/2016' '13/01/2016' '24/10/2016' '13/04/2016' '16/08/2016'\n",
      " '24/06/2016' '23/09/2016' '03/06/2016' '06/08/2016' '20/09/2016'\n",
      " '01/12/2016' '08/07/2016' '28/04/2016' '11/05/2016' '29/09/2016'\n",
      " '03/04/2016' '15/09/2016' '24/05/2016' '07/10/2016' '27/09/2016'\n",
      " '11/03/2016' '27/01/2016' '09/11/2016' '04/06/2016' '20/11/2016'\n",
      " '13/05/2016' '23/11/2016' '12/09/2016' '02/02/2016' '16/07/2016'\n",
      " '23/01/2016' '21/10/2016' '08/05/2016' '29/11/2016' '19/03/2016'\n",
      " '17/06/2016' '12/04/2016' '20/02/2016' '02/11/2016' '13/08/2016'\n",
      " '30/11/2016' '30/10/2016' '17/04/2016' '25/04/2016' '05/08/2016'\n",
      " '04/03/2016' '02/01/2016' '08/08/2016' '10/10/2016' '05/11/2016'\n",
      " '06/09/2016' '29/08/2016' '15/03/2016' '26/01/2016' '09/02/2016'\n",
      " '22/03/2016' '07/06/2016' '20/08/2016' '16/01/2016' '06/07/2016'\n",
      " '30/08/2016' '04/07/2016' '05/02/2016' '19/10/2016' '21/06/2016'\n",
      " '30/07/2016' '21/11/2016' '14/04/2016' '11/12/2016' '16/12/2016'\n",
      " '06/02/2016' '05/12/2016' '17/07/2016' '10/12/2016' '11/04/2016'\n",
      " '28/02/2016' '13/09/2016' '19/04/2016' '14/02/2016' '17/10/2016'\n",
      " '04/10/2016' '12/05/2016' '01/11/2016' '29/06/2016' '21/01/2016'\n",
      " '14/08/2016' '21/08/2016' '17/09/2016' '19/11/2016' '28/09/2016'\n",
      " '07/08/2016' '07/09/2016' '02/10/2016']\n",
      "retirementType\n",
      "['Resignation' 'Fired']\n",
      "resignationReason\n",
      "['Others' 'Stress' 'Salary' 'no aplica']\n"
     ]
    }
   ],
   "source": [
    "#Aplicar función pra ver valores únicos por variable\n",
    "valores(df_retirement)"
   ]
  },
  {
   "cell_type": "code",
   "execution_count": 34,
   "metadata": {},
   "outputs": [],
   "source": [
    "#Se detectó que la variable 'Attrition' está compuesta por un valor único, por tanto, se procede a eliminarla\n",
    "df_retirement=df_retirement.drop(['Attrition'], axis=1)"
   ]
  },
  {
   "cell_type": "code",
   "execution_count": 35,
   "metadata": {},
   "outputs": [],
   "source": [
    "#Aplicar función para que los registros de las variables tipo string se han convertidos a minúsculas\n",
    "df_retirement['retirementType']=minus(df_retirement['retirementType'])\n",
    "df_retirement['resignationReason']=minus(df_retirement['resignationReason'])\n",
    "#Aplicar función para convertir nombre de las variables en minúscula\n",
    "minust(df_retirement)"
   ]
  },
  {
   "cell_type": "code",
   "execution_count": 36,
   "metadata": {},
   "outputs": [
    {
     "name": "stderr",
     "output_type": "stream",
     "text": [
      "C:\\Users\\Valentina\\AppData\\Local\\Temp\\ipykernel_27044\\2124130599.py:2: UserWarning: Parsing dates in DD/MM/YYYY format when dayfirst=False (the default) was specified. This may lead to inconsistently parsed dates! Specify a format to ensure consistent parsing.\n",
      "  df_retirement['retirementdate'] = pd.to_datetime(df_retirement['retirementdate'])\n"
     ]
    }
   ],
   "source": [
    "#Convertir variable 'retirementdate' a formato fecha\n",
    "df_retirement['retirementdate'] = pd.to_datetime(df_retirement['retirementdate'])"
   ]
  },
  {
   "cell_type": "code",
   "execution_count": 37,
   "metadata": {},
   "outputs": [
    {
     "data": {
      "text/html": [
       "<div>\n",
       "<style scoped>\n",
       "    .dataframe tbody tr th:only-of-type {\n",
       "        vertical-align: middle;\n",
       "    }\n",
       "\n",
       "    .dataframe tbody tr th {\n",
       "        vertical-align: top;\n",
       "    }\n",
       "\n",
       "    .dataframe thead th {\n",
       "        text-align: right;\n",
       "    }\n",
       "</style>\n",
       "<table border=\"1\" class=\"dataframe\">\n",
       "  <thead>\n",
       "    <tr style=\"text-align: right;\">\n",
       "      <th></th>\n",
       "      <th>employeeid</th>\n",
       "      <th>retirementdate</th>\n",
       "      <th>retirementtype</th>\n",
       "      <th>resignationreason</th>\n",
       "    </tr>\n",
       "  </thead>\n",
       "  <tbody>\n",
       "    <tr>\n",
       "      <th>0</th>\n",
       "      <td>2</td>\n",
       "      <td>2016-10-15</td>\n",
       "      <td>resignation</td>\n",
       "      <td>others</td>\n",
       "    </tr>\n",
       "    <tr>\n",
       "      <th>1</th>\n",
       "      <td>7</td>\n",
       "      <td>2016-07-20</td>\n",
       "      <td>resignation</td>\n",
       "      <td>stress</td>\n",
       "    </tr>\n",
       "    <tr>\n",
       "      <th>2</th>\n",
       "      <td>14</td>\n",
       "      <td>2016-08-11</td>\n",
       "      <td>resignation</td>\n",
       "      <td>others</td>\n",
       "    </tr>\n",
       "    <tr>\n",
       "      <th>3</th>\n",
       "      <td>29</td>\n",
       "      <td>2016-10-15</td>\n",
       "      <td>resignation</td>\n",
       "      <td>others</td>\n",
       "    </tr>\n",
       "    <tr>\n",
       "      <th>4</th>\n",
       "      <td>31</td>\n",
       "      <td>2016-08-02</td>\n",
       "      <td>resignation</td>\n",
       "      <td>salary</td>\n",
       "    </tr>\n",
       "    <tr>\n",
       "      <th>...</th>\n",
       "      <td>...</td>\n",
       "      <td>...</td>\n",
       "      <td>...</td>\n",
       "      <td>...</td>\n",
       "    </tr>\n",
       "    <tr>\n",
       "      <th>706</th>\n",
       "      <td>4382</td>\n",
       "      <td>2016-04-18</td>\n",
       "      <td>resignation</td>\n",
       "      <td>salary</td>\n",
       "    </tr>\n",
       "    <tr>\n",
       "      <th>707</th>\n",
       "      <td>4387</td>\n",
       "      <td>2016-09-16</td>\n",
       "      <td>resignation</td>\n",
       "      <td>others</td>\n",
       "    </tr>\n",
       "    <tr>\n",
       "      <th>708</th>\n",
       "      <td>4389</td>\n",
       "      <td>2016-05-24</td>\n",
       "      <td>resignation</td>\n",
       "      <td>others</td>\n",
       "    </tr>\n",
       "    <tr>\n",
       "      <th>709</th>\n",
       "      <td>4392</td>\n",
       "      <td>2016-02-26</td>\n",
       "      <td>fired</td>\n",
       "      <td>no aplica</td>\n",
       "    </tr>\n",
       "    <tr>\n",
       "      <th>710</th>\n",
       "      <td>4403</td>\n",
       "      <td>2016-01-26</td>\n",
       "      <td>resignation</td>\n",
       "      <td>stress</td>\n",
       "    </tr>\n",
       "  </tbody>\n",
       "</table>\n",
       "<p>711 rows × 4 columns</p>\n",
       "</div>"
      ],
      "text/plain": [
       "     employeeid retirementdate retirementtype resignationreason\n",
       "0             2     2016-10-15    resignation            others\n",
       "1             7     2016-07-20    resignation            stress\n",
       "2            14     2016-08-11    resignation            others\n",
       "3            29     2016-10-15    resignation            others\n",
       "4            31     2016-08-02    resignation            salary\n",
       "..          ...            ...            ...               ...\n",
       "706        4382     2016-04-18    resignation            salary\n",
       "707        4387     2016-09-16    resignation            others\n",
       "708        4389     2016-05-24    resignation            others\n",
       "709        4392     2016-02-26          fired         no aplica\n",
       "710        4403     2016-01-26    resignation            stress\n",
       "\n",
       "[711 rows x 4 columns]"
      ]
     },
     "execution_count": 37,
     "metadata": {},
     "output_type": "execute_result"
    }
   ],
   "source": [
    "df_retirement"
   ]
  },
  {
   "attachments": {},
   "cell_type": "markdown",
   "metadata": {},
   "source": [
    "##### Unión de dfs"
   ]
  },
  {
   "cell_type": "code",
   "execution_count": 38,
   "metadata": {},
   "outputs": [],
   "source": [
    "df= pd.merge(df_employee,df_general,on=\"employeeid\",how=\"inner\")\n",
    "df = pd.merge(df,df_manager,on=\"employeeid\",how=\"inner\")\n",
    "df = pd.merge(df,df_retirement,on=\"employeeid\",how=\"left\")"
   ]
  },
  {
   "cell_type": "code",
   "execution_count": 43,
   "metadata": {},
   "outputs": [],
   "source": [
    "#La variable 'retirementType' indica el tipo de retiro del empleado, el cual puede ser por despido o renuncia\n",
    "#Para el trabajo en cuestión, solo interesa lo campos de empleados que hayan renunciado.\n",
    "#Por tanto, se eliminan los registros de empleados despedidos\n",
    "df.drop(df[(df['retirementtype'] =='fired')].index, inplace=True)"
   ]
  },
  {
   "attachments": {},
   "cell_type": "markdown",
   "metadata": {},
   "source": [
    "##### Descargar df"
   ]
  },
  {
   "cell_type": "code",
   "execution_count": 44,
   "metadata": {},
   "outputs": [],
   "source": [
    "df.to_csv('./data/df.csv', index=False)"
   ]
  }
 ],
 "metadata": {
  "kernelspec": {
   "display_name": "Python 3",
   "language": "python",
   "name": "python3"
  },
  "language_info": {
   "codemirror_mode": {
    "name": "ipython",
    "version": 3
   },
   "file_extension": ".py",
   "mimetype": "text/x-python",
   "name": "python",
   "nbconvert_exporter": "python",
   "pygments_lexer": "ipython3",
   "version": "3.11.0"
  },
  "orig_nbformat": 4
 },
 "nbformat": 4,
 "nbformat_minor": 2
}
